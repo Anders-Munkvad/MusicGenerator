{
 "cells": [
  {
   "cell_type": "markdown",
   "metadata": {},
   "source": [
    "# Imports:"
   ]
  },
  {
   "cell_type": "code",
   "execution_count": 22,
   "metadata": {},
   "outputs": [],
   "source": [
    "import torch\n",
    "import torch.nn as nn\n",
    "import torch.nn.functional as F\n",
    "import math\n",
    "import pretty_midi\n",
    "from music21 import midi\n",
    "import IPython.display as ipd\n",
    "import numpy as np\n",
    "\n",
    "# Similar:\n",
    "# https://magenta.tensorflow.org/music-vae\n",
    "# https://openai.com/index/musenet/"
   ]
  },
  {
   "cell_type": "code",
   "execution_count": 23,
   "metadata": {},
   "outputs": [],
   "source": [
    "# Positional Encoding\n",
    "class PositionalEncoding(nn.Module):\n",
    "    def __init__(self, d_model, max_len=5000):\n",
    "        super(PositionalEncoding, self).__init__()\n",
    "        pe = torch.zeros(max_len, d_model)\n",
    "        position = torch.arange(0, max_len).unsqueeze(1)\n",
    "        div_term = torch.exp(torch.arange(0, d_model, 2) * -(math.log(10000.0) / d_model))\n",
    "        pe[:, 0::2] = torch.sin(position * div_term)\n",
    "        pe[:, 1::2] = torch.cos(position * div_term)\n",
    "        pe = pe.unsqueeze(0)\n",
    "        self.register_buffer('pe', pe)\n",
    "\n",
    "    def forward(self, x):\n",
    "        return x + self.pe[:, :x.size(1)]\n",
    "\n",
    "# Transformer Model for Music Generation\n",
    "class MusicTransformer(nn.Module):\n",
    "    def __init__(self, vocab_size, d_model=512, nhead=8, num_layers=6, dim_feedforward=2048, max_seq_length=500):\n",
    "        super(MusicTransformer, self).__init__()\n",
    "        self.embedding = nn.Embedding(vocab_size, d_model)\n",
    "        self.pos_encoder = PositionalEncoding(d_model, max_seq_length)\n",
    "        self.transformer = nn.Transformer(\n",
    "            d_model=d_model, \n",
    "            nhead=nhead, \n",
    "            num_encoder_layers=num_layers,\n",
    "            num_decoder_layers=num_layers,\n",
    "            dim_feedforward=dim_feedforward\n",
    "        )\n",
    "        self.d_model = d_model\n",
    "        self.output_layer = nn.Linear(d_model, vocab_size)\n",
    "\n",
    "    def forward(self, src, tgt):\n",
    "        src = self.embedding(src) * math.sqrt(self.d_model)\n",
    "        tgt = self.embedding(tgt) * math.sqrt(self.d_model)\n",
    "        src = self.pos_encoder(src)\n",
    "        tgt = self.pos_encoder(tgt)\n",
    "\n",
    "        # Adjusted permute calls to match the expected dimensions\n",
    "        output = self.transformer(src.permute(1, 0, 2), tgt.permute(1, 0, 2)) \n",
    "        output = self.output_layer(output.permute(1, 0, 2))  # Corrected to avoid 4D tensor issues\n",
    "        return output\n"
   ]
  },
  {
   "cell_type": "code",
   "execution_count": 24,
   "metadata": {},
   "outputs": [
    {
     "name": "stderr",
     "output_type": "stream",
     "text": [
      "c:\\Users\\ander\\anaconda3\\envs\\adl\\Lib\\site-packages\\torch\\nn\\modules\\transformer.py:306: UserWarning: enable_nested_tensor is True, but self.use_nested_tensor is False because encoder_layer.self_attn.batch_first was not True(use batch_first for better inference performance)\n",
      "  warnings.warn(f\"enable_nested_tensor is True, but self.use_nested_tensor is False because {why_not_sparsity_fast_path}\")\n"
     ]
    },
    {
     "name": "stdout",
     "output_type": "stream",
     "text": [
      "MusicTransformer(\n",
      "  (embedding): Embedding(128, 512)\n",
      "  (pos_encoder): PositionalEncoding()\n",
      "  (transformer): Transformer(\n",
      "    (encoder): TransformerEncoder(\n",
      "      (layers): ModuleList(\n",
      "        (0-5): 6 x TransformerEncoderLayer(\n",
      "          (self_attn): MultiheadAttention(\n",
      "            (out_proj): NonDynamicallyQuantizableLinear(in_features=512, out_features=512, bias=True)\n",
      "          )\n",
      "          (linear1): Linear(in_features=512, out_features=2048, bias=True)\n",
      "          (dropout): Dropout(p=0.1, inplace=False)\n",
      "          (linear2): Linear(in_features=2048, out_features=512, bias=True)\n",
      "          (norm1): LayerNorm((512,), eps=1e-05, elementwise_affine=True)\n",
      "          (norm2): LayerNorm((512,), eps=1e-05, elementwise_affine=True)\n",
      "          (dropout1): Dropout(p=0.1, inplace=False)\n",
      "          (dropout2): Dropout(p=0.1, inplace=False)\n",
      "        )\n",
      "      )\n",
      "      (norm): LayerNorm((512,), eps=1e-05, elementwise_affine=True)\n",
      "    )\n",
      "    (decoder): TransformerDecoder(\n",
      "      (layers): ModuleList(\n",
      "        (0-5): 6 x TransformerDecoderLayer(\n",
      "          (self_attn): MultiheadAttention(\n",
      "            (out_proj): NonDynamicallyQuantizableLinear(in_features=512, out_features=512, bias=True)\n",
      "          )\n",
      "          (multihead_attn): MultiheadAttention(\n",
      "            (out_proj): NonDynamicallyQuantizableLinear(in_features=512, out_features=512, bias=True)\n",
      "          )\n",
      "          (linear1): Linear(in_features=512, out_features=2048, bias=True)\n",
      "          (dropout): Dropout(p=0.1, inplace=False)\n",
      "          (linear2): Linear(in_features=2048, out_features=512, bias=True)\n",
      "          (norm1): LayerNorm((512,), eps=1e-05, elementwise_affine=True)\n",
      "          (norm2): LayerNorm((512,), eps=1e-05, elementwise_affine=True)\n",
      "          (norm3): LayerNorm((512,), eps=1e-05, elementwise_affine=True)\n",
      "          (dropout1): Dropout(p=0.1, inplace=False)\n",
      "          (dropout2): Dropout(p=0.1, inplace=False)\n",
      "          (dropout3): Dropout(p=0.1, inplace=False)\n",
      "        )\n",
      "      )\n",
      "      (norm): LayerNorm((512,), eps=1e-05, elementwise_affine=True)\n",
      "    )\n",
      "  )\n",
      "  (output_layer): Linear(in_features=512, out_features=128, bias=True)\n",
      ")\n",
      "Tokenized music data size: torch.Size([25534])\n"
     ]
    }
   ],
   "source": [
    "# Instantiate the model\n",
    "def get_model(vocab_size, max_seq_length):\n",
    "    model = MusicTransformer(vocab_size=vocab_size, max_seq_length=max_seq_length)\n",
    "    return model\n",
    "\n",
    "# Example usage\n",
    "vocab_size = 128  # Assuming MIDI note numbers as tokens\n",
    "max_seq_length = 500\n",
    "model = get_model(vocab_size, max_seq_length)\n",
    "\n",
    "# Check model architecture\n",
    "print(model)\n",
    "\n",
    "# MIDI Preprocessing Function\n",
    "def midi_to_sequence(midi_file):\n",
    "    midi_data = pretty_midi.PrettyMIDI(midi_file)\n",
    "    notes = []\n",
    "    for instrument in midi_data.instruments:\n",
    "        for note in instrument.notes:\n",
    "            notes.append(note.pitch)\n",
    "    return notes\n",
    "\n",
    "# Example of preprocessing all files in a folder\n",
    "import os\n",
    "midi_folder = 'numbers/albeniz'\n",
    "music_data = []\n",
    "\n",
    "for file in os.listdir(midi_folder):\n",
    "    if file.endswith(\".mid\"):\n",
    "        music_data.extend(midi_to_sequence(os.path.join(midi_folder, file)))\n",
    "\n",
    "# Convert to tensor\n",
    "data_tensor = torch.tensor(music_data, dtype=torch.long)\n",
    "#print(\"Tokenized music data size:\", data_tensor.size())\n"
   ]
  },
  {
   "cell_type": "code",
   "execution_count": 25,
   "metadata": {},
   "outputs": [
    {
     "name": "stdout",
     "output_type": "stream",
     "text": [
      "Epoch 1, Loss: 125.8950\n"
     ]
    }
   ],
   "source": [
    "def train_model(model, data_tensor, num_epochs=1, batch_size=32):\n",
    "    model.train()\n",
    "    optimizer = torch.optim.Adam(model.parameters(), lr=0.001)\n",
    "    criterion = nn.CrossEntropyLoss()\n",
    "\n",
    "    for epoch in range(num_epochs):\n",
    "        total_loss = 0\n",
    "        for i in range(0, len(data_tensor) - batch_size, batch_size):\n",
    "            src = data_tensor[i:i + batch_size].unsqueeze(0)\n",
    "            tgt = data_tensor[i + 1:i + batch_size + 1].unsqueeze(0)\n",
    "\n",
    "            optimizer.zero_grad()\n",
    "            output = model(src, tgt)\n",
    "            loss = criterion(output.view(-1, vocab_size), tgt.view(-1))\n",
    "            loss.backward()\n",
    "            optimizer.step()\n",
    "            total_loss += loss.item()\n",
    "        \n",
    "        print(f\"Epoch {epoch + 1}, Loss: {total_loss:.4f}\")\n",
    "\n",
    "# Run a quick training loop with limited data\n",
    "train_model(model, data_tensor[:1000], num_epochs=1)\n"
   ]
  },
  {
   "cell_type": "code",
   "execution_count": 35,
   "metadata": {},
   "outputs": [],
   "source": [
    "# Music Generation\n",
    "model.eval()\n",
    "def generate_music(model, start_sequence, max_length=500):  # Reduced max_length for faster testing\n",
    "    generated = start_sequence.squeeze(0).tolist()  # Ensure a flat list of tokens\n",
    "    input_seq = torch.tensor([generated], dtype=torch.long)\n",
    "\n",
    "    for _ in range(max_length):\n",
    "        with torch.no_grad():\n",
    "            # Ensure token values are clipped within the vocabulary size\n",
    "            input_seq = torch.clamp(input_seq, min=0, max=vocab_size - 1)\n",
    "            embedded_seq = model.embedding(input_seq).permute(1, 0, 2)  # (seq_len, batch_size, d_model)\n",
    "\n",
    "            # Generate output and predict next token\n",
    "            output = model.transformer(embedded_seq, embedded_seq)\n",
    "            next_token = torch.argmax(output[-1, 0, :]).item()\n",
    "\n",
    "            # Prevent next token from exceeding vocabulary size\n",
    "            next_token = max(0, min(next_token, vocab_size - 1))\n",
    "            generated.append(next_token)\n",
    "\n",
    "            # Update input sequence for next step\n",
    "            input_seq = torch.tensor([generated[-50:]], dtype=torch.long)  # Shortened sequence length\n",
    "\n",
    "    return generated\n",
    "\n",
    "# Convert generated sequence to MIDI file and play it\n",
    "def sequence_to_midi(sequence, output_file=\"generated_music.mid\"):\n",
    "    midi = pretty_midi.PrettyMIDI()\n",
    "    instrument = pretty_midi.Instrument(program=0)\n",
    "    start = 0\n",
    "    for note in sequence:\n",
    "        note = max(0, min(note, 127))  # Ensure valid MIDI note range\n",
    "        midi_note = pretty_midi.Note(velocity=100, pitch=note, start=start, end=start + 0.5)\n",
    "        instrument.notes.append(midi_note)\n",
    "        start += 0.5\n",
    "    midi.instruments.append(instrument)\n",
    "    midi.write(output_file)\n",
    "\n",
    "# Generate and save a music piece with fewer tokens for faster testing\n",
    "start_sequence = torch.randint(0, vocab_size, (1, 5))  # Reduced start sequence length\n",
    "generated_sequence = generate_music(model, start_sequence)\n",
    "sequence_to_midi(generated_sequence)\n",
    "\n"
   ]
  },
  {
   "cell_type": "markdown",
   "metadata": {},
   "source": [
    "# Play:"
   ]
  },
  {
   "cell_type": "code",
   "execution_count": 34,
   "metadata": {},
   "outputs": [
    {
     "name": "stdout",
     "output_type": "stream",
     "text": [
      "Playing generated MIDI using music21...\n"
     ]
    },
    {
     "data": {
      "text/html": [
       "\n",
       "        <div id=\"midiPlayerDiv8024\"></div>\n",
       "        <link rel=\"stylesheet\" href=\"https://cuthbertLab.github.io/music21j/css/m21.css\">\n",
       "        \n",
       "        <script\n",
       "        src=\"https://cdnjs.cloudflare.com/ajax/libs/require.js/2.3.6/require.min.js\"\n",
       "        ></script>\n",
       "    \n",
       "        <script>\n",
       "        function midiPlayerDiv8024_play() {\n",
       "            const rq = require.config({\n",
       "                paths: {\n",
       "                    'music21': 'https://cuthbertLab.github.io/music21j/releases/music21.debug',\n",
       "                }\n",
       "            });\n",
       "            rq(['music21'], function(music21) {\n",
       "                mp = new music21.miditools.MidiPlayer();\n",
       "                mp.addPlayer(\"#midiPlayerDiv8024\");\n",
       "                mp.base64Load(\"data:audio/midi;base64,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\");\n",
       "            });\n",
       "        }\n",
       "        if (typeof require === 'undefined') {\n",
       "            setTimeout(midiPlayerDiv8024_play, 2000);\n",
       "        } else {\n",
       "            midiPlayerDiv8024_play();\n",
       "        }\n",
       "        </script>"
      ],
      "text/plain": [
       "<IPython.core.display.HTML object>"
      ]
     },
     "metadata": {},
     "output_type": "display_data"
    }
   ],
   "source": [
    "from music21 import midi\n",
    "\n",
    "def play_midi_with_music21(midi_file_path):\n",
    "    \"\"\"Play a MIDI file using music21\"\"\"\n",
    "    print(\"Playing generated MIDI using music21...\")\n",
    "    mf = midi.MidiFile()\n",
    "    mf.open(midi_file_path)  # Load the specified MIDI file\n",
    "    mf.read()\n",
    "    mf.close()\n",
    "    stream = midi.translate.midiFileToStream(mf)\n",
    "    stream.show('midi')  # This will open a media player if supported\n",
    "\n",
    "play_midi_with_music21(\"generated_music.mid\")"
   ]
  }
 ],
 "metadata": {
  "kernelspec": {
   "display_name": "adl",
   "language": "python",
   "name": "python3"
  },
  "language_info": {
   "codemirror_mode": {
    "name": "ipython",
    "version": 3
   },
   "file_extension": ".py",
   "mimetype": "text/x-python",
   "name": "python",
   "nbconvert_exporter": "python",
   "pygments_lexer": "ipython3",
   "version": "3.11.7"
  }
 },
 "nbformat": 4,
 "nbformat_minor": 2
}
